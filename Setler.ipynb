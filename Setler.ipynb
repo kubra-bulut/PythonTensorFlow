{
 "cells": [
  {
   "cell_type": "code",
   "execution_count": 1,
   "id": "5870345b-6baf-4bf5-9732-6a745272d2f1",
   "metadata": {},
   "outputs": [],
   "source": [
    "myList=[1,2,3,1,2,3]"
   ]
  },
  {
   "cell_type": "code",
   "execution_count": 3,
   "id": "55fab262-cdea-4a56-bebb-a874439425eb",
   "metadata": {},
   "outputs": [
    {
     "data": {
      "text/plain": [
       "[1, 2, 3, 1, 2, 3]"
      ]
     },
     "execution_count": 3,
     "metadata": {},
     "output_type": "execute_result"
    }
   ],
   "source": [
    "myList"
   ]
  },
  {
   "cell_type": "markdown",
   "id": "13dc8642-3aef-43d5-9521-b661343f5dfe",
   "metadata": {},
   "source": [
    "Set içerisinde bir elemanı sadece bir kere barındırmaya izin verir."
   ]
  },
  {
   "cell_type": "code",
   "execution_count": 4,
   "id": "ea8dbb93-5170-4f8f-8411-5a879fe6fb7a",
   "metadata": {},
   "outputs": [],
   "source": [
    "myListSet=set(myList)"
   ]
  },
  {
   "cell_type": "code",
   "execution_count": 5,
   "id": "f8dbe02c-62f4-48ec-97a4-5f9db7896a0c",
   "metadata": {},
   "outputs": [
    {
     "data": {
      "text/plain": [
       "list"
      ]
     },
     "execution_count": 5,
     "metadata": {},
     "output_type": "execute_result"
    }
   ],
   "source": [
    "type(myList)"
   ]
  },
  {
   "cell_type": "code",
   "execution_count": 6,
   "id": "1552f584-e169-44b9-897a-fdeff852d074",
   "metadata": {},
   "outputs": [
    {
     "data": {
      "text/plain": [
       "set"
      ]
     },
     "execution_count": 6,
     "metadata": {},
     "output_type": "execute_result"
    }
   ],
   "source": [
    "type(myListSet)"
   ]
  },
  {
   "cell_type": "code",
   "execution_count": 7,
   "id": "9412be72-e8d3-45c5-aa4f-d56d4fb3d74b",
   "metadata": {},
   "outputs": [
    {
     "data": {
      "text/plain": [
       "{1, 2, 3}"
      ]
     },
     "execution_count": 7,
     "metadata": {},
     "output_type": "execute_result"
    }
   ],
   "source": [
    "myListSet"
   ]
  },
  {
   "cell_type": "markdown",
   "id": "5f5d3a10-3e2f-4c4f-9558-edb08e6f6ce6",
   "metadata": {},
   "source": [
    "Liste içerisinde tekrar eden değerler, sete çevirildiğinde temizlenir"
   ]
  },
  {
   "cell_type": "code",
   "execution_count": 10,
   "id": "f2d3b5de-1639-4877-8858-24754b3ce7b2",
   "metadata": {},
   "outputs": [],
   "source": [
    "mySet={\"a\",\"b\",\"c\",\"a\"}"
   ]
  },
  {
   "cell_type": "code",
   "execution_count": 11,
   "id": "c2dfaedd-df63-484b-a921-e0c01a8c72e3",
   "metadata": {},
   "outputs": [
    {
     "data": {
      "text/plain": [
       "set"
      ]
     },
     "execution_count": 11,
     "metadata": {},
     "output_type": "execute_result"
    }
   ],
   "source": [
    "type(mySet)"
   ]
  },
  {
   "cell_type": "code",
   "execution_count": 12,
   "id": "aa2bbcd7-92ad-410f-b54d-fa52d084da1f",
   "metadata": {},
   "outputs": [
    {
     "data": {
      "text/plain": [
       "{'a', 'b', 'c'}"
      ]
     },
     "execution_count": 12,
     "metadata": {},
     "output_type": "execute_result"
    }
   ],
   "source": [
    "mySet"
   ]
  },
  {
   "cell_type": "code",
   "execution_count": 13,
   "id": "a3c9b00e-bf63-4b8b-a86f-54e9273783dd",
   "metadata": {},
   "outputs": [],
   "source": [
    "emptyList=[]"
   ]
  },
  {
   "cell_type": "code",
   "execution_count": 14,
   "id": "930d7faf-b5e8-4334-a074-ed8c957870d2",
   "metadata": {},
   "outputs": [
    {
     "data": {
      "text/plain": [
       "list"
      ]
     },
     "execution_count": 14,
     "metadata": {},
     "output_type": "execute_result"
    }
   ],
   "source": [
    "type(emptyList)"
   ]
  },
  {
   "cell_type": "code",
   "execution_count": 15,
   "id": "6b975a3f-40eb-48f5-b2fc-ec0b8c2b78f8",
   "metadata": {},
   "outputs": [
    {
     "data": {
      "text/plain": [
       "[]"
      ]
     },
     "execution_count": 15,
     "metadata": {},
     "output_type": "execute_result"
    }
   ],
   "source": [
    "emptyList"
   ]
  },
  {
   "cell_type": "code",
   "execution_count": 16,
   "id": "42b54cd0-4efe-45d5-a007-d65328b06ad2",
   "metadata": {},
   "outputs": [],
   "source": [
    "emptySet={}"
   ]
  },
  {
   "cell_type": "code",
   "execution_count": 17,
   "id": "5c518ab3-abb0-4024-9a8b-a483e6882566",
   "metadata": {},
   "outputs": [
    {
     "data": {
      "text/plain": [
       "dict"
      ]
     },
     "execution_count": 17,
     "metadata": {},
     "output_type": "execute_result"
    }
   ],
   "source": [
    "type(emptySet)"
   ]
  },
  {
   "cell_type": "code",
   "execution_count": 19,
   "id": "f9d416c7-04ba-4f9f-8282-b1d8c096975e",
   "metadata": {},
   "outputs": [],
   "source": [
    "myEmptySet=set()"
   ]
  },
  {
   "cell_type": "code",
   "execution_count": null,
   "id": "2866de3a-1184-4438-8a27-29471902c2d8",
   "metadata": {},
   "outputs": [],
   "source": []
  }
 ],
 "metadata": {
  "kernelspec": {
   "display_name": "Python 3 (ipykernel)",
   "language": "python",
   "name": "python3"
  },
  "language_info": {
   "codemirror_mode": {
    "name": "ipython",
    "version": 3
   },
   "file_extension": ".py",
   "mimetype": "text/x-python",
   "name": "python",
   "nbconvert_exporter": "python",
   "pygments_lexer": "ipython3",
   "version": "3.12.4"
  }
 },
 "nbformat": 4,
 "nbformat_minor": 5
}
