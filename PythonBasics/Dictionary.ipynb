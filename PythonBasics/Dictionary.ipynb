{
 "cells": [
  {
   "cell_type": "markdown",
   "id": "cdf16f07-359b-44a2-906b-e9aa6a0c5682",
   "metadata": {},
   "source": [
    "Tanımlama"
   ]
  },
  {
   "cell_type": "code",
   "execution_count": 2,
   "id": "45440b8e-c0cc-4ee8-bdf3-ca9ed3a8fecd",
   "metadata": {},
   "outputs": [],
   "source": [
    "myDictionary={\"anahtar kelime\":\"deger\"}"
   ]
  },
  {
   "cell_type": "code",
   "execution_count": 3,
   "id": "9e7b00c9-b268-45a3-aef5-a78547d12ace",
   "metadata": {},
   "outputs": [
    {
     "data": {
      "text/plain": [
       "dict"
      ]
     },
     "execution_count": 3,
     "metadata": {},
     "output_type": "execute_result"
    }
   ],
   "source": [
    "type(myDictionary)"
   ]
  },
  {
   "cell_type": "code",
   "execution_count": 6,
   "id": "85bc9b3b-56db-4bc3-9a0f-0dd9c3b44c07",
   "metadata": {},
   "outputs": [],
   "source": [
    "myFoodCalorieDictionary={\"elma\":100,\"karpuz\":200,\"muz\":300}"
   ]
  },
  {
   "cell_type": "code",
   "execution_count": 9,
   "id": "dd811d9f-6bfb-432f-aee1-fdae8f43058e",
   "metadata": {},
   "outputs": [],
   "source": [
    "myFoodCalorieDictionary[\"elma\"]=200"
   ]
  },
  {
   "cell_type": "code",
   "execution_count": 10,
   "id": "752dc8ad-0903-4f9a-8b4d-a61c6ab17521",
   "metadata": {},
   "outputs": [
    {
     "data": {
      "text/plain": [
       "{'elma': 200, 'karpuz': 200, 'muz': 300}"
      ]
     },
     "execution_count": 10,
     "metadata": {},
     "output_type": "execute_result"
    }
   ],
   "source": [
    "myFoodCalorieDictionary"
   ]
  },
  {
   "cell_type": "code",
   "execution_count": 11,
   "id": "c31c68ce-1403-4faa-aba1-45fdb04db2ea",
   "metadata": {},
   "outputs": [],
   "source": [
    "newDictionary={\"anahtar1\":100,\"anahtar2\":[10,20,30,40,4.5,\"kübra\"],\"anahtar3\":{\"anahtar9\":4}}"
   ]
  },
  {
   "cell_type": "code",
   "execution_count": 12,
   "id": "75f2d908-dcbc-497f-a4a3-75135eb617b7",
   "metadata": {},
   "outputs": [
    {
     "data": {
      "text/plain": [
       "dict_keys(['anahtar1', 'anahtar2', 'anahtar3'])"
      ]
     },
     "execution_count": 12,
     "metadata": {},
     "output_type": "execute_result"
    }
   ],
   "source": [
    "newDictionary.keys()"
   ]
  },
  {
   "cell_type": "code",
   "execution_count": 13,
   "id": "09896ffc-9578-4dd0-9330-d2fd0df0848b",
   "metadata": {},
   "outputs": [
    {
     "data": {
      "text/plain": [
       "dict_values([100, [10, 20, 30, 40, 4.5, 'kübra'], {'anahtar9': 4}])"
      ]
     },
     "execution_count": 13,
     "metadata": {},
     "output_type": "execute_result"
    }
   ],
   "source": [
    "newDictionary.values()"
   ]
  },
  {
   "cell_type": "code",
   "execution_count": 14,
   "id": "35de568d-8302-4a16-bfb2-70feb6ba318b",
   "metadata": {},
   "outputs": [
    {
     "data": {
      "text/plain": [
       "'kübra'"
      ]
     },
     "execution_count": 14,
     "metadata": {},
     "output_type": "execute_result"
    }
   ],
   "source": [
    "newDictionary[\"anahtar2\"][5]"
   ]
  },
  {
   "cell_type": "code",
   "execution_count": 15,
   "id": "654aac33-ba4c-4769-8796-e53202b1268e",
   "metadata": {},
   "outputs": [
    {
     "data": {
      "text/plain": [
       "4"
      ]
     },
     "execution_count": 15,
     "metadata": {},
     "output_type": "execute_result"
    }
   ],
   "source": [
    "newDictionary[\"anahtar3\"][\"anahtar9\"]"
   ]
  },
  {
   "cell_type": "code",
   "execution_count": null,
   "id": "cfc3c6a4-5d19-4710-a576-5a9d665d7922",
   "metadata": {},
   "outputs": [],
   "source": []
  }
 ],
 "metadata": {
  "kernelspec": {
   "display_name": "Python 3 (ipykernel)",
   "language": "python",
   "name": "python3"
  },
  "language_info": {
   "codemirror_mode": {
    "name": "ipython",
    "version": 3
   },
   "file_extension": ".py",
   "mimetype": "text/x-python",
   "name": "python",
   "nbconvert_exporter": "python",
   "pygments_lexer": "ipython3",
   "version": "3.12.4"
  }
 },
 "nbformat": 4,
 "nbformat_minor": 5
}
