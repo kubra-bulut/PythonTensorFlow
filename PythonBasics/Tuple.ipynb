{
 "cells": [
  {
   "cell_type": "code",
   "execution_count": 1,
   "id": "5bc83ffb-a5db-4d56-ade5-ef3846e9b6fe",
   "metadata": {},
   "outputs": [],
   "source": [
    "myList=[1,2,\"a\",4.5]"
   ]
  },
  {
   "cell_type": "code",
   "execution_count": 2,
   "id": "c399b100-92d7-4f50-96a0-7286169e82b5",
   "metadata": {},
   "outputs": [
    {
     "data": {
      "text/plain": [
       "1"
      ]
     },
     "execution_count": 2,
     "metadata": {},
     "output_type": "execute_result"
    }
   ],
   "source": [
    "myList[0]"
   ]
  },
  {
   "cell_type": "code",
   "execution_count": 3,
   "id": "4865fb7d-63ce-4038-957d-8fbef27a4d88",
   "metadata": {},
   "outputs": [],
   "source": [
    "myList[0]=100"
   ]
  },
  {
   "cell_type": "code",
   "execution_count": 4,
   "id": "1cef8d89-aea4-4581-9e4f-98417b571794",
   "metadata": {},
   "outputs": [
    {
     "data": {
      "text/plain": [
       "[100, 2, 'a', 4.5]"
      ]
     },
     "execution_count": 4,
     "metadata": {},
     "output_type": "execute_result"
    }
   ],
   "source": [
    "myList"
   ]
  },
  {
   "cell_type": "code",
   "execution_count": 5,
   "id": "07f2576b-9422-4cab-b859-e742fcf3dc07",
   "metadata": {},
   "outputs": [],
   "source": [
    "myTuple=(1,2,\"a\",4.5)"
   ]
  },
  {
   "cell_type": "code",
   "execution_count": 6,
   "id": "979e8b81-fad1-49d5-87f1-3e75fbc7e1b3",
   "metadata": {},
   "outputs": [
    {
     "data": {
      "text/plain": [
       "1"
      ]
     },
     "execution_count": 6,
     "metadata": {},
     "output_type": "execute_result"
    }
   ],
   "source": [
    "myTuple[0]"
   ]
  },
  {
   "cell_type": "markdown",
   "id": "9c134d74-160f-4217-9db9-d6b7320ad2b5",
   "metadata": {},
   "source": [
    "Tuple'da listelerdeki gibi veriler değiştirilemez. "
   ]
  },
  {
   "cell_type": "code",
   "execution_count": 7,
   "id": "2038e22c-dce4-418f-ad77-4e9218c8301b",
   "metadata": {},
   "outputs": [],
   "source": [
    "##myTuple[2]=\"b\""
   ]
  },
  {
   "cell_type": "code",
   "execution_count": 8,
   "id": "92d6a178-ffda-4fa0-aa44-b1e0e1dcef04",
   "metadata": {},
   "outputs": [
    {
     "data": {
      "text/plain": [
       "1"
      ]
     },
     "execution_count": 8,
     "metadata": {},
     "output_type": "execute_result"
    }
   ],
   "source": [
    "myTuple.count(\"a\")"
   ]
  },
  {
   "cell_type": "code",
   "execution_count": 9,
   "id": "792354ba-3a83-4171-a36e-f0df8a0cf2f4",
   "metadata": {},
   "outputs": [
    {
     "data": {
      "text/plain": [
       "3"
      ]
     },
     "execution_count": 9,
     "metadata": {},
     "output_type": "execute_result"
    }
   ],
   "source": [
    "myTuple.index(4.5)"
   ]
  }
 ],
 "metadata": {
  "kernelspec": {
   "display_name": "Python 3 (ipykernel)",
   "language": "python",
   "name": "python3"
  },
  "language_info": {
   "codemirror_mode": {
    "name": "ipython",
    "version": 3
   },
   "file_extension": ".py",
   "mimetype": "text/x-python",
   "name": "python",
   "nbconvert_exporter": "python",
   "pygments_lexer": "ipython3",
   "version": "3.12.4"
  }
 },
 "nbformat": 4,
 "nbformat_minor": 5
}
