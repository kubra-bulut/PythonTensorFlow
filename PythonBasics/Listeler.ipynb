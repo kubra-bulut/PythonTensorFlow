{
 "cells": [
  {
   "cell_type": "code",
   "execution_count": 1,
   "id": "26a6f8de-2161-40de-81c0-2f669d77408c",
   "metadata": {},
   "outputs": [],
   "source": [
    "myString=\"Kübra Bulut\""
   ]
  },
  {
   "cell_type": "code",
   "execution_count": 2,
   "id": "35f4b24f-080f-4ec2-805b-83cbae16c0ae",
   "metadata": {},
   "outputs": [
    {
     "data": {
      "text/plain": [
       "'K'"
      ]
     },
     "execution_count": 2,
     "metadata": {},
     "output_type": "execute_result"
    }
   ],
   "source": [
    "myString[0]"
   ]
  },
  {
   "cell_type": "code",
   "execution_count": 3,
   "id": "7ff782bd-1117-4f87-b0f7-5db12e362d44",
   "metadata": {},
   "outputs": [],
   "source": [
    "myList=[10,20,30,40]"
   ]
  },
  {
   "cell_type": "code",
   "execution_count": 4,
   "id": "2dcc5509-297f-4ac3-8dde-fe811290012f",
   "metadata": {},
   "outputs": [
    {
     "data": {
      "text/plain": [
       "list"
      ]
     },
     "execution_count": 4,
     "metadata": {},
     "output_type": "execute_result"
    }
   ],
   "source": [
    "type(myList)"
   ]
  },
  {
   "cell_type": "code",
   "execution_count": 5,
   "id": "51122622-cd61-485d-ba7c-98344dae1fe6",
   "metadata": {},
   "outputs": [],
   "source": [
    "myNumber=10\n",
    "myOtherNumber=20"
   ]
  },
  {
   "cell_type": "code",
   "execution_count": 6,
   "id": "138ba2ea-e720-4017-a027-59f8decb761d",
   "metadata": {},
   "outputs": [],
   "source": [
    "myNumberList=[myNumber,myOtherNumber]"
   ]
  },
  {
   "cell_type": "code",
   "execution_count": 9,
   "id": "3fbd3eb2-f0d4-41d5-a003-8ca086f081ae",
   "metadata": {},
   "outputs": [
    {
     "data": {
      "text/plain": [
       "40"
      ]
     },
     "execution_count": 9,
     "metadata": {},
     "output_type": "execute_result"
    }
   ],
   "source": [
    "myList[3]"
   ]
  },
  {
   "cell_type": "code",
   "execution_count": 8,
   "id": "48a1af9d-ac51-4870-9fab-9a4248cf0c81",
   "metadata": {},
   "outputs": [
    {
     "data": {
      "text/plain": [
       "10"
      ]
     },
     "execution_count": 8,
     "metadata": {},
     "output_type": "execute_result"
    }
   ],
   "source": [
    "myNumberList[0]"
   ]
  },
  {
   "cell_type": "code",
   "execution_count": 10,
   "id": "f86c6dab-17ab-42f1-b318-c6e610bd6705",
   "metadata": {},
   "outputs": [
    {
     "data": {
      "text/plain": [
       "[10, 20, 30, 40]"
      ]
     },
     "execution_count": 10,
     "metadata": {},
     "output_type": "execute_result"
    }
   ],
   "source": [
    "myList"
   ]
  },
  {
   "cell_type": "code",
   "execution_count": 11,
   "id": "b747fe26-fbec-4b6b-b5ac-cb4734d45877",
   "metadata": {},
   "outputs": [],
   "source": [
    "myList[0]=100"
   ]
  },
  {
   "cell_type": "code",
   "execution_count": 12,
   "id": "9fd77f64-a149-4f8b-9b52-95b3c7f83c05",
   "metadata": {},
   "outputs": [
    {
     "data": {
      "text/plain": [
       "[100, 20, 30, 40]"
      ]
     },
     "execution_count": 12,
     "metadata": {},
     "output_type": "execute_result"
    }
   ],
   "source": [
    "myList"
   ]
  },
  {
   "cell_type": "code",
   "execution_count": 13,
   "id": "4ad0faa5-8430-4dfc-8bbe-eaa192bafdac",
   "metadata": {},
   "outputs": [],
   "source": [
    "myList.append(50)"
   ]
  },
  {
   "cell_type": "code",
   "execution_count": 15,
   "id": "09a1a075-bf6f-458a-960c-00e0f2ffb0ee",
   "metadata": {},
   "outputs": [
    {
     "data": {
      "text/plain": [
       "[100, 20, 30, 40, 50]"
      ]
     },
     "execution_count": 15,
     "metadata": {},
     "output_type": "execute_result"
    }
   ],
   "source": [
    "myList"
   ]
  },
  {
   "cell_type": "code",
   "execution_count": 16,
   "id": "05615fc3-416d-46c4-a1d6-b0a3da4b7b68",
   "metadata": {},
   "outputs": [
    {
     "data": {
      "text/plain": [
       "1"
      ]
     },
     "execution_count": 16,
     "metadata": {},
     "output_type": "execute_result"
    }
   ],
   "source": [
    " myList.count(30)"
   ]
  },
  {
   "cell_type": "code",
   "execution_count": 17,
   "id": "696074ea-3a20-4e9e-a275-0c9932dfdf46",
   "metadata": {},
   "outputs": [],
   "source": [
    "karisikListe=[1,2,3.5,\"kübra\",9]"
   ]
  },
  {
   "cell_type": "code",
   "execution_count": 18,
   "id": "fb1d348d-925c-4d66-a4ea-5f53986e92db",
   "metadata": {},
   "outputs": [
    {
     "data": {
      "text/plain": [
       "list"
      ]
     },
     "execution_count": 18,
     "metadata": {},
     "output_type": "execute_result"
    }
   ],
   "source": [
    "type(karisikListe)"
   ]
  },
  {
   "cell_type": "code",
   "execution_count": 19,
   "id": "6bdfdea7-4170-49f3-89ea-39d2d28fac71",
   "metadata": {},
   "outputs": [],
   "source": [
    "sonucum=karisikListe[0]"
   ]
  },
  {
   "cell_type": "code",
   "execution_count": 20,
   "id": "d4d64924-83ff-4a6f-8b60-0f321750ca60",
   "metadata": {},
   "outputs": [],
   "source": [
    "nestedList=[1,5,\"kübra\",4,[6,\"a\"]]"
   ]
  },
  {
   "cell_type": "code",
   "execution_count": 24,
   "id": "404a1644-e4dd-4d3c-bdd8-bb5d477e288f",
   "metadata": {},
   "outputs": [
    {
     "data": {
      "text/plain": [
       "'a'"
      ]
     },
     "execution_count": 24,
     "metadata": {},
     "output_type": "execute_result"
    }
   ],
   "source": [
    "nestedList[4][1]"
   ]
  },
  {
   "cell_type": "code",
   "execution_count": null,
   "id": "90e1b607-1dd6-443d-8225-d681dcd46f09",
   "metadata": {},
   "outputs": [],
   "source": []
  }
 ],
 "metadata": {
  "kernelspec": {
   "display_name": "Python 3 (ipykernel)",
   "language": "python",
   "name": "python3"
  },
  "language_info": {
   "codemirror_mode": {
    "name": "ipython",
    "version": 3
   },
   "file_extension": ".py",
   "mimetype": "text/x-python",
   "name": "python",
   "nbconvert_exporter": "python",
   "pygments_lexer": "ipython3",
   "version": "3.12.4"
  }
 },
 "nbformat": 4,
 "nbformat_minor": 5
}
