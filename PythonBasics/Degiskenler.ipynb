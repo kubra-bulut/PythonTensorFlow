{
 "cells": [
  {
   "cell_type": "markdown",
   "id": "dca118a0-c6c8-429a-a1cf-536611b2248a",
   "metadata": {},
   "source": [
    "## Variables(Değişkenler)"
   ]
  },
  {
   "cell_type": "code",
   "execution_count": 2,
   "id": "717654b1-1280-45ce-989e-dd12e76dff31",
   "metadata": {},
   "outputs": [],
   "source": [
    "myVariable=10\n",
    "myOtherVariable=20"
   ]
  },
  {
   "cell_type": "code",
   "execution_count": 3,
   "id": "18037f35-3ea4-4999-b7ca-ba9a5f7fd397",
   "metadata": {},
   "outputs": [
    {
     "data": {
      "text/plain": [
       "30"
      ]
     },
     "execution_count": 3,
     "metadata": {},
     "output_type": "execute_result"
    }
   ],
   "source": [
    "myVariable+myOtherVariable"
   ]
  },
  {
   "cell_type": "code",
   "execution_count": 4,
   "id": "6143e9dd-0a98-4bae-bece-7a8c21997b45",
   "metadata": {},
   "outputs": [
    {
     "data": {
      "text/plain": [
       "int"
      ]
     },
     "execution_count": 4,
     "metadata": {},
     "output_type": "execute_result"
    }
   ],
   "source": [
    "type(myOtherVariable)"
   ]
  },
  {
   "cell_type": "code",
   "execution_count": 5,
   "id": "5d806ca6-20d5-4737-8a2f-ab13f5c93717",
   "metadata": {},
   "outputs": [],
   "source": [
    "isimString=\"Kübra Bulut\""
   ]
  },
  {
   "cell_type": "code",
   "execution_count": 6,
   "id": "30bac0a7-5d01-49ef-a434-6401ed934783",
   "metadata": {},
   "outputs": [
    {
     "data": {
      "text/plain": [
       "'Kübra Bulut'"
      ]
     },
     "execution_count": 6,
     "metadata": {},
     "output_type": "execute_result"
    }
   ],
   "source": [
    "isimString"
   ]
  },
  {
   "cell_type": "code",
   "execution_count": 9,
   "id": "db9368ee-53d5-4290-9429-5866f1597614",
   "metadata": {},
   "outputs": [
    {
     "data": {
      "text/plain": [
       "' '"
      ]
     },
     "execution_count": 9,
     "metadata": {},
     "output_type": "execute_result"
    }
   ],
   "source": [
    "isimString[5]"
   ]
  },
  {
   "cell_type": "code",
   "execution_count": 10,
   "id": "35697661-5f91-4ed1-83d6-c2600f96a45d",
   "metadata": {},
   "outputs": [
    {
     "data": {
      "text/plain": [
       "'t'"
      ]
     },
     "execution_count": 10,
     "metadata": {},
     "output_type": "execute_result"
    }
   ],
   "source": [
    " isimString[-1]"
   ]
  },
  {
   "cell_type": "code",
   "execution_count": 11,
   "id": "8720abf6-a87c-4680-8620-947ae60f625d",
   "metadata": {},
   "outputs": [],
   "source": [
    "yeniString=\"0123456789\""
   ]
  },
  {
   "cell_type": "code",
   "execution_count": 12,
   "id": "d95696eb-f3cc-4b36-8dc3-6d3c14830945",
   "metadata": {},
   "outputs": [
    {
     "data": {
      "text/plain": [
       "'23456789'"
      ]
     },
     "execution_count": 12,
     "metadata": {},
     "output_type": "execute_result"
    }
   ],
   "source": [
    "yeniString[2:]"
   ]
  },
  {
   "cell_type": "code",
   "execution_count": 13,
   "id": "6dd00091-0331-47cb-9100-73dc71451941",
   "metadata": {},
   "outputs": [],
   "source": [
    "harfString=\"abcdefgh\""
   ]
  },
  {
   "cell_type": "code",
   "execution_count": 15,
   "id": "bd7aec9c-8269-4a1f-bf00-82069ae785fd",
   "metadata": {},
   "outputs": [
    {
     "data": {
      "text/plain": [
       "'abc'"
      ]
     },
     "execution_count": 15,
     "metadata": {},
     "output_type": "execute_result"
    }
   ],
   "source": [
    "harfString[:3]"
   ]
  },
  {
   "cell_type": "code",
   "execution_count": 16,
   "id": "6842946c-ad40-49a4-a883-8161bc28d90b",
   "metadata": {},
   "outputs": [],
   "source": [
    "gelenVeri=\"AhmetinYasi65\""
   ]
  },
  {
   "cell_type": "code",
   "execution_count": 17,
   "id": "c639bfad-52e2-4390-8c21-a264cce46ba6",
   "metadata": {},
   "outputs": [
    {
     "data": {
      "text/plain": [
       "'met'"
      ]
     },
     "execution_count": 17,
     "metadata": {},
     "output_type": "execute_result"
    }
   ],
   "source": [
    "gelenVeri[2:5]"
   ]
  },
  {
   "cell_type": "code",
   "execution_count": 18,
   "id": "97a905dc-4859-4286-bf27-cbb84d4f44b4",
   "metadata": {},
   "outputs": [
    {
     "data": {
      "text/plain": [
       "'Amtnai5'"
      ]
     },
     "execution_count": 18,
     "metadata": {},
     "output_type": "execute_result"
    }
   ],
   "source": [
    "gelenVeri[::2]"
   ]
  },
  {
   "cell_type": "code",
   "execution_count": null,
   "id": "69c20d65-867a-440b-980a-6a06fc8ad751",
   "metadata": {},
   "outputs": [],
   "source": []
  }
 ],
 "metadata": {
  "kernelspec": {
   "display_name": "Python 3 (ipykernel)",
   "language": "python",
   "name": "python3"
  },
  "language_info": {
   "codemirror_mode": {
    "name": "ipython",
    "version": 3
   },
   "file_extension": ".py",
   "mimetype": "text/x-python",
   "name": "python",
   "nbconvert_exporter": "python",
   "pygments_lexer": "ipython3",
   "version": "3.12.4"
  }
 },
 "nbformat": 4,
 "nbformat_minor": 5
}
